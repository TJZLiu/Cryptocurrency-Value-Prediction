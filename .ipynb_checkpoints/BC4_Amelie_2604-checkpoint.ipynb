{
 "cells": [
  {
   "cell_type": "markdown",
   "id": "c36c9245",
   "metadata": {},
   "source": [
    "### Group Q:\n",
    "\n",
    "Laura Cuna, 20211312<br>\n",
    "Amelie Langenstein, 20210637<br>\n",
    "Tongjiuzhou Liu, 20211012<br>\n",
    "Nina Urbancic, 20211314"
   ]
  },
  {
   "cell_type": "markdown",
   "id": "1276b52c",
   "metadata": {},
   "source": [
    "# Business Case 4 - Cryptocurrency Value Prediction"
   ]
  },
  {
   "cell_type": "markdown",
   "id": "04eb647e",
   "metadata": {},
   "source": [
    "# Contents of this notebook\n",
    "\n",
    "- [1. Business Understanding](#1.-Business-Understanding)\n",
    "    - [1.1. Determine Business Objectives](#1.1.-Determine-Business-Objectives)\n",
    "    - [1.2. Assess Situation](#1.2.-Assess-Situation)\n",
    "    - [1.3. Determine Data Mining Goals](#1.3.-Determine-Data-Mining-Goals)\n",
    "    - [1.4. Produce Project Plan](#1.4.-Produce-Project-Plan)\n",
    "- [2. Data Understanding](#2.-Data-Understanding)\n",
    "    - [2.1. Collect Initial Data](#2.1.-Collect-Initial-Data)\n",
    "    - [2.2. Describe Data](#2.2.-Describe-Data)\n",
    "    - [2.3. Explore Data](#2.3.-Explore-Data)\n",
    "    - [2.4. Verify Data Quality](#2.4.-Verify-Data-Quality)\n",
    "- [3. Data Preparation](#3.-Data-Preparation)\n",
    "    - [3.1. Select Data](#3.1.-Select-Data)\n",
    "    - [3.2. Clean Data](#3.2.-Clean-Data)\n",
    "    - [3.3. Construct Data](#3.3.-Construct-Data)\n",
    "    - [3.4. Integrate Data](#3.4.-Integrate-Data)\n",
    "    - [3.5. Format Data](#3.5.-Format-Data)\n",
    "- [4. Modeling](#4.-Modeling)\n",
    "    - [4.1. Select Modeling Techniques](#4.1.-Select-Modeling-Techniques)\n",
    "    - [4.2. Generate Test Design](#4.2.-Generate-Test-Design)\n",
    "    - [4.3. Build Model](#4.3.-Build-Model)\n",
    "    - [4.4. Assess Model](#4.4.-Assess-Model)\n",
    "- [5. Evaluation](#5.-Evaluation)\n",
    "    - [5.1. Evaluate Results](#5.1.-Evaluate-Results)\n",
    "    - [5.2. Review Process](#5.2.-Review-Process)\n",
    "    - [5.3. Determine Next Steps](#5.3.-Determine-Next-Steps)\n",
    "- [6. Deployment](#6.-Deployment)\n",
    "    - [6.1. Plan Deployment](#6.1.-Plan-Deployment)\n",
    "    - [6.2. Plan Monitoring and Maintance](#6.2.-Plan-Monitoring-and-Maintance)\n",
    "    - [6.3. Produce Final Report](#6.3.-Produce-Final-Report)\n",
    "    - [6.4. Review Project](#6.4.-Review-Project)\n",
    "           "
   ]
  },
  {
   "cell_type": "markdown",
   "id": "2266a35c",
   "metadata": {},
   "source": [
    "# 1. Business Understanding"
   ]
  },
  {
   "cell_type": "markdown",
   "id": "9f3d2929",
   "metadata": {},
   "source": [
    "## 1.1. Determine Business Objectives"
   ]
  },
  {
   "cell_type": "markdown",
   "id": "b34284dd",
   "metadata": {},
   "source": [
    "## 1.2. Assess Situation"
   ]
  },
  {
   "cell_type": "markdown",
   "id": "02de1530",
   "metadata": {},
   "source": [
    "## 1.3. Determine Data Mining Goals"
   ]
  },
  {
   "cell_type": "markdown",
   "id": "1e923f5a",
   "metadata": {},
   "source": [
    "## 1.4. Produce Project Plan"
   ]
  },
  {
   "cell_type": "markdown",
   "id": "b5b45479",
   "metadata": {},
   "source": [
    "# 2. Data Understanding"
   ]
  },
  {
   "cell_type": "code",
   "execution_count": 2,
   "id": "78c4f8d9",
   "metadata": {},
   "outputs": [],
   "source": [
    "import pandas as pd\n",
    "from functools import reduce\n"
   ]
  },
  {
   "cell_type": "markdown",
   "id": "fdfd14b4",
   "metadata": {},
   "source": [
    "## 2.1. Collect Initial Data"
   ]
  },
  {
   "cell_type": "code",
   "execution_count": 3,
   "id": "c9357ce7",
   "metadata": {},
   "outputs": [],
   "source": [
    "# Read csv files\n",
    "df_adj_close = pd.read_csv('data/adj_close.csv')\n",
    "df_close = pd.read_csv('data/close.csv')\n",
    "df_high = pd.read_csv('data/high.csv')\n",
    "df_low = pd.read_csv('data/low.csv')\n",
    "df_open = pd.read_csv('data/open.csv')\n",
    "df_volume = pd.read_csv('data/volume.csv')"
   ]
  },
  {
   "cell_type": "markdown",
   "id": "3bf0f57d",
   "metadata": {},
   "source": [
    "## 2.2. Describe Data"
   ]
  },
  {
   "cell_type": "code",
   "execution_count": null,
   "id": "951cc270",
   "metadata": {},
   "outputs": [],
   "source": [
    "#display df_adj_close info\n",
    "df_adj_close .info()"
   ]
  },
  {
   "cell_type": "code",
   "execution_count": null,
   "id": "c03cbf4d",
   "metadata": {},
   "outputs": [],
   "source": [
    "#display top rows\n",
    "df_adj_close.head(10)"
   ]
  },
  {
   "cell_type": "code",
   "execution_count": null,
   "id": "4345319e",
   "metadata": {},
   "outputs": [],
   "source": [
    "# Statistics summary for all variables\n",
    "df_adj_close.describe(include='all').transpose()"
   ]
  },
  {
   "cell_type": "code",
   "execution_count": null,
   "id": "eb8896f7",
   "metadata": {},
   "outputs": [],
   "source": [
    "#display df_close info\n",
    "df_close .info()"
   ]
  },
  {
   "cell_type": "code",
   "execution_count": null,
   "id": "a66f133f",
   "metadata": {},
   "outputs": [],
   "source": [
    "#display top rows\n",
    "df_close.head(10)"
   ]
  },
  {
   "cell_type": "code",
   "execution_count": null,
   "id": "073b2265",
   "metadata": {},
   "outputs": [],
   "source": [
    "# Statistics summary for all variables\n",
    "df_close.describe(include='all').transpose()"
   ]
  },
  {
   "cell_type": "code",
   "execution_count": null,
   "id": "664542ca",
   "metadata": {},
   "outputs": [],
   "source": [
    "#display df_close info\n",
    "df_high .info()"
   ]
  },
  {
   "cell_type": "code",
   "execution_count": null,
   "id": "e78828fc",
   "metadata": {},
   "outputs": [],
   "source": [
    "#display top rows\n",
    "df_high.head(10)"
   ]
  },
  {
   "cell_type": "code",
   "execution_count": null,
   "id": "e56abb40",
   "metadata": {},
   "outputs": [],
   "source": [
    "# Statistics summary for all variables\n",
    "df_high.describe(include='all').transpose()"
   ]
  },
  {
   "cell_type": "code",
   "execution_count": null,
   "id": "bf741cd1",
   "metadata": {},
   "outputs": [],
   "source": []
  },
  {
   "cell_type": "code",
   "execution_count": null,
   "id": "c0de9bb5",
   "metadata": {},
   "outputs": [],
   "source": []
  },
  {
   "cell_type": "code",
   "execution_count": null,
   "id": "306eb1e1",
   "metadata": {},
   "outputs": [],
   "source": []
  },
  {
   "cell_type": "code",
   "execution_count": null,
   "id": "0906fbc6",
   "metadata": {},
   "outputs": [],
   "source": []
  },
  {
   "cell_type": "code",
   "execution_count": null,
   "id": "b8a4111f",
   "metadata": {},
   "outputs": [],
   "source": []
  },
  {
   "cell_type": "code",
   "execution_count": null,
   "id": "430b3579",
   "metadata": {},
   "outputs": [],
   "source": []
  },
  {
   "cell_type": "markdown",
   "id": "92bd7993",
   "metadata": {},
   "source": [
    "## 2.3. Explore Data"
   ]
  },
  {
   "cell_type": "markdown",
   "id": "1f8c0f04",
   "metadata": {},
   "source": [
    "## 2.4. Verify Data Quality "
   ]
  },
  {
   "cell_type": "markdown",
   "id": "be8cfb32",
   "metadata": {
    "tags": []
   },
   "source": [
    "# 3. Data Preparation"
   ]
  },
  {
   "cell_type": "markdown",
   "id": "a8e15211",
   "metadata": {},
   "source": [
    "## 3.1. Select Data"
   ]
  },
  {
   "cell_type": "markdown",
   "id": "76b436c5",
   "metadata": {},
   "source": [
    "## 3.2. Clean Data"
   ]
  },
  {
   "cell_type": "markdown",
   "id": "8d5ff162",
   "metadata": {},
   "source": [
    "## 3.3. Construct Data"
   ]
  },
  {
   "cell_type": "markdown",
   "id": "8d40827e",
   "metadata": {},
   "source": [
    "## 3.4. Integrate Data"
   ]
  },
  {
   "cell_type": "markdown",
   "id": "017cdd72",
   "metadata": {},
   "source": [
    "## 3.5. Format Data"
   ]
  },
  {
   "cell_type": "markdown",
   "id": "d0b404d0",
   "metadata": {},
   "source": [
    "# 4. Modeling"
   ]
  },
  {
   "cell_type": "markdown",
   "id": "add7e5ce",
   "metadata": {},
   "source": [
    "## 4.1. Select Modeling Techniques"
   ]
  },
  {
   "cell_type": "markdown",
   "id": "a11ae673",
   "metadata": {},
   "source": [
    "## 4.2. Generate Test Design"
   ]
  },
  {
   "cell_type": "markdown",
   "id": "774215db",
   "metadata": {},
   "source": [
    "## 4.3. Build Model"
   ]
  },
  {
   "cell_type": "markdown",
   "id": "3732c0e8",
   "metadata": {},
   "source": [
    "## 4.4. Assess Model"
   ]
  },
  {
   "cell_type": "markdown",
   "id": "6f761f15",
   "metadata": {},
   "source": [
    "# 5. Evaluation"
   ]
  },
  {
   "cell_type": "markdown",
   "id": "60a21600",
   "metadata": {},
   "source": [
    "## 5.1. Evaluate Results"
   ]
  },
  {
   "cell_type": "markdown",
   "id": "38006fa7",
   "metadata": {},
   "source": [
    "## 5.2. Review Process"
   ]
  },
  {
   "cell_type": "markdown",
   "id": "234e6f2d",
   "metadata": {},
   "source": [
    "## 5.3. Determine Next Steps"
   ]
  },
  {
   "cell_type": "markdown",
   "id": "37f52e5d",
   "metadata": {},
   "source": [
    "# 6. Deployment"
   ]
  },
  {
   "cell_type": "markdown",
   "id": "652e694b",
   "metadata": {},
   "source": [
    "## 6.1. Plan Deployment"
   ]
  },
  {
   "cell_type": "markdown",
   "id": "0f2567ae",
   "metadata": {},
   "source": [
    "## 6.2. Plan Monitoring and Maintance"
   ]
  },
  {
   "cell_type": "markdown",
   "id": "10c27e7d",
   "metadata": {},
   "source": [
    "## 6.3. Produce Final Report"
   ]
  },
  {
   "cell_type": "markdown",
   "id": "029f6a45",
   "metadata": {},
   "source": [
    "## 6.4. Review Project"
   ]
  }
 ],
 "metadata": {
  "kernelspec": {
   "display_name": "Python 3 (ipykernel)",
   "language": "python",
   "name": "python3"
  },
  "language_info": {
   "codemirror_mode": {
    "name": "ipython",
    "version": 3
   },
   "file_extension": ".py",
   "mimetype": "text/x-python",
   "name": "python",
   "nbconvert_exporter": "python",
   "pygments_lexer": "ipython3",
   "version": "3.9.7"
  }
 },
 "nbformat": 4,
 "nbformat_minor": 5
}
